{
 "cells": [
  {
   "cell_type": "code",
   "execution_count": 2,
   "metadata": {},
   "outputs": [],
   "source": [
    "import pandas as pd\n",
    "import numpy as np"
   ]
  },
  {
   "cell_type": "code",
   "execution_count": 3,
   "metadata": {},
   "outputs": [],
   "source": [
    "df = pd.read_csv('laptops.csv')\n",
    "df.columns = df.columns.str.lower().str.replace(' ', '_')"
   ]
  },
  {
   "cell_type": "code",
   "execution_count": 4,
   "metadata": {},
   "outputs": [],
   "source": [
    "df.drop('laptop',axis=1,inplace=True)"
   ]
  },
  {
   "cell_type": "code",
   "execution_count": 5,
   "metadata": {},
   "outputs": [
    {
     "data": {
      "text/plain": [
       "status             0\n",
       "brand              0\n",
       "model              0\n",
       "cpu                0\n",
       "ram                0\n",
       "storage            0\n",
       "storage_type      42\n",
       "gpu             1371\n",
       "screen             4\n",
       "touch              0\n",
       "final_price        0\n",
       "dtype: int64"
      ]
     },
     "execution_count": 5,
     "metadata": {},
     "output_type": "execute_result"
    }
   ],
   "source": [
    "df.isna().sum()"
   ]
  },
  {
   "cell_type": "code",
   "execution_count": 6,
   "metadata": {},
   "outputs": [],
   "source": [
    "from sklearn.preprocessing import LabelEncoder\n",
    "\n",
    "label_encoders = {}\n",
    "for column in df.select_dtypes(include=['object']).columns:\n",
    "    le = LabelEncoder()\n",
    "    df[column] = le.fit_transform(df[column])\n",
    "    label_encoders[column] = le"
   ]
  },
  {
   "cell_type": "code",
   "execution_count": 7,
   "metadata": {},
   "outputs": [
    {
     "name": "stdout",
     "output_type": "stream",
     "text": [
      "<class 'pandas.core.frame.DataFrame'>\n",
      "RangeIndex: 2160 entries, 0 to 2159\n",
      "Data columns (total 11 columns):\n",
      " #   Column        Non-Null Count  Dtype  \n",
      "---  ------        --------------  -----  \n",
      " 0   status        2160 non-null   int32  \n",
      " 1   brand         2160 non-null   int32  \n",
      " 2   model         2160 non-null   int32  \n",
      " 3   cpu           2160 non-null   int32  \n",
      " 4   ram           2160 non-null   int64  \n",
      " 5   storage       2160 non-null   int64  \n",
      " 6   storage_type  2160 non-null   int32  \n",
      " 7   gpu           2160 non-null   int32  \n",
      " 8   screen        2156 non-null   float64\n",
      " 9   touch         2160 non-null   int32  \n",
      " 10  final_price   2160 non-null   float64\n",
      "dtypes: float64(2), int32(7), int64(2)\n",
      "memory usage: 126.7 KB\n"
     ]
    }
   ],
   "source": [
    "df.info()"
   ]
  },
  {
   "cell_type": "code",
   "execution_count": 8,
   "metadata": {},
   "outputs": [],
   "source": [
    "df_filled_zeros = df.fillna(0)\n",
    "df_filled_mean = df.fillna(df.mean())"
   ]
  },
  {
   "cell_type": "code",
   "execution_count": 19,
   "metadata": {},
   "outputs": [
    {
     "name": "stdout",
     "output_type": "stream",
     "text": [
      "Root Mean Squared Error: 602.53\n"
     ]
    }
   ],
   "source": [
    "from sklearn.model_selection import train_test_split\n",
    "from sklearn.linear_model import LinearRegression\n",
    "from sklearn.metrics import root_mean_squared_error\n",
    "\n",
    "X = df_filled_zeros.drop('final_price',axis=1)\n",
    "y = df_filled_zeros['final_price']\n",
    "\n",
    "\n",
    "X_train, X_test, y_train, y_test = train_test_split(X, y, test_size=0.2, random_state=42)\n",
    "\n",
    "\n",
    "model = LinearRegression()\n",
    "\n",
    "\n",
    "model.fit(X_train, y_train)\n",
    "\n",
    "\n",
    "y_pred = model.predict(X_test)\n",
    "\n",
    "rmse = root_mean_squared_error(y_test, y_pred)\n",
    "\n",
    "print(f\"Root Mean Squared Error: {rmse:.2f}\")\n"
   ]
  },
  {
   "cell_type": "code",
   "execution_count": 18,
   "metadata": {},
   "outputs": [
    {
     "name": "stdout",
     "output_type": "stream",
     "text": [
      "Root Mean Squared Error: 602.39\n"
     ]
    }
   ],
   "source": [
    "X = df_filled_mean.drop('final_price',axis=1)\n",
    "y = df_filled_mean['final_price']\n",
    "\n",
    "\n",
    "X_train, X_test, y_train, y_test = train_test_split(X, y, test_size=0.2, random_state=42)\n",
    "\n",
    "\n",
    "model = LinearRegression()\n",
    "\n",
    "\n",
    "model.fit(X_train, y_train)\n",
    "\n",
    "\n",
    "y_pred = model.predict(X_test)\n",
    "\n",
    "rmse = root_mean_squared_error(y_test, y_pred)\n",
    "\n",
    "print(f\"Root Mean Squared Error: {rmse:.2f}\")\n"
   ]
  },
  {
   "cell_type": "code",
   "execution_count": 17,
   "metadata": {},
   "outputs": [
    {
     "name": "stdout",
     "output_type": "stream",
     "text": [
      "Regularization Strength (alpha): 0, Root Mean Squared Error: 602.39\n",
      "Regularization Strength (alpha): 0.01, Root Mean Squared Error: 602.39\n",
      "Regularization Strength (alpha): 0.1, Root Mean Squared Error: 602.39\n",
      "Regularization Strength (alpha): 1, Root Mean Squared Error: 602.37\n",
      "Regularization Strength (alpha): 5, Root Mean Squared Error: 602.31\n",
      "Regularization Strength (alpha): 10, Root Mean Squared Error: 602.26\n",
      "Regularization Strength (alpha): 100, Root Mean Squared Error: 603.54\n"
     ]
    }
   ],
   "source": [
    "from sklearn.linear_model import Ridge\n",
    "\n",
    "c_values = [0, 0.01, 0.1, 1, 5, 10, 100]\n",
    "for c in c_values:\n",
    "\n",
    "    model = Ridge(alpha=c)\n",
    "    \n",
    "    model.fit(X_train, y_train)\n",
    "    \n",
    "\n",
    "    y_pred = model.predict(X_test)\n",
    "    \n",
    "    rmse = root_mean_squared_error(y_test, y_pred)\n",
    "    \n",
    "    print(f\"Regularization Strength (alpha): {c}, Root Mean Squared Error: {rmse:.2f}\")\n"
   ]
  },
  {
   "cell_type": "code",
   "execution_count": 23,
   "metadata": {},
   "outputs": [
    {
     "name": "stdout",
     "output_type": "stream",
     "text": [
      "[563.9294265916635, 528.0218836598749, 602.8020533256658, 562.1929624135988, 546.5619307462485, 578.0597501301163, 584.1138962503215, 581.2584522362371, 524.6581154745428, 500.6535264613372]\n",
      "31.813799928069827\n"
     ]
    }
   ],
   "source": [
    "li = [0, 1, 2, 3, 4, 5, 6, 7, 8, 9]\n",
    "from sklearn.model_selection import train_test_split\n",
    "from sklearn.linear_model import LinearRegression\n",
    "from sklearn.metrics import root_mean_squared_error\n",
    "\n",
    "X = df_filled_zeros.drop('final_price',axis=1)\n",
    "y = df_filled_zeros['final_price']\n",
    "list_scores = []\n",
    "for ran in li:\n",
    "    X_train, X_test, y_train, y_test = train_test_split(X, y, test_size=0.2, random_state=ran)\n",
    "\n",
    "\n",
    "    model = LinearRegression()\n",
    "\n",
    "\n",
    "    model.fit(X_train, y_train)\n",
    "\n",
    "\n",
    "    y_pred = model.predict(X_test)\n",
    "\n",
    "    rmse = root_mean_squared_error(y_test, y_pred)\n",
    "    list_scores.append(rmse)\n",
    "    #print(f\"Root Mean Squared Error: {rmse:.3f}\")\n",
    "print(list_scores)\n",
    "std_dev = np.std(list_scores, ddof=1) \n",
    "print(std_dev)"
   ]
  },
  {
   "cell_type": "code",
   "execution_count": 26,
   "metadata": {},
   "outputs": [
    {
     "name": "stdout",
     "output_type": "stream",
     "text": [
      "Root Mean Squared Error: 500.65\n"
     ]
    }
   ],
   "source": [
    "X_train, X_test, y_train, y_test = train_test_split(X, y, test_size=0.2, random_state=9)\n",
    "\n",
    "r = 0.001\n",
    "model = Ridge(alpha=r)\n",
    "model.fit(X_train, y_train)\n",
    "y_pred = model.predict(X_test)\n",
    "\n",
    "rmse = root_mean_squared_error(y_test, y_pred)\n",
    "\n",
    "print(f\"Root Mean Squared Error: {rmse:.2f}\" )\n"
   ]
  },
  {
   "cell_type": "code",
   "execution_count": null,
   "metadata": {},
   "outputs": [],
   "source": []
  }
 ],
 "metadata": {
  "kernelspec": {
   "display_name": "Python 3",
   "language": "python",
   "name": "python3"
  },
  "language_info": {
   "codemirror_mode": {
    "name": "ipython",
    "version": 3
   },
   "file_extension": ".py",
   "mimetype": "text/x-python",
   "name": "python",
   "nbconvert_exporter": "python",
   "pygments_lexer": "ipython3",
   "version": "3.12.3"
  }
 },
 "nbformat": 4,
 "nbformat_minor": 2
}
